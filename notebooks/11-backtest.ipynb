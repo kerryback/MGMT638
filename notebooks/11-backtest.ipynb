{
 "cells": [
  {
   "cell_type": "markdown",
   "metadata": {
    "slideshow": {
     "slide_type": "slide"
    }
   },
   "source": [
    "# Backtesting \n",
    "\n",
    "### MGMT 638: Data-Driven Investments: Equity\n",
    "### Kerry Back, Rice University\n",
    "\n",
    "<a target=\"_blank\" href=\"https://colab.research.google.com/github/kerryback/mgmt638/blob/main/notebooks/11-backtest.ipynb\">\n",
    "  <img src=\"https://colab.research.google.com/assets/colab-badge.svg\" alt=\"Open In Colab\"/>\n",
    "</a>"
   ]
  },
  {
   "cell_type": "markdown",
   "metadata": {
    "slideshow": {
     "slide_type": "slide"
    }
   },
   "source": [
    "## Read data\n",
    "\n",
    "- Penny stocks have been eliminated\n",
    "- Data includes both large caps and small caps.  You can filter to small caps if you want.\n",
    "- Filter to your sector."
   ]
  },
  {
   "cell_type": "code",
   "execution_count": 1,
   "metadata": {
    "slideshow": {
     "slide_type": "slide"
    }
   },
   "outputs": [],
   "source": [
    "import pandas as pd\n",
    "\n",
    "url = \"https://www.dropbox.com/s/lm4v48d51g64l0f/data-2023-11-29.csv?dl=1\"\n",
    "df = pd.read_csv(url)"
   ]
  },
  {
   "cell_type": "code",
   "execution_count": 10,
   "metadata": {
    "slideshow": {
     "slide_type": "slide"
    }
   },
   "outputs": [
    {
     "data": {
      "text/plain": [
       "'    \\ndf[\"rnk\"] = df.groupby(\"date\", group_keys=False).marketcap.rank(\\n    ascending=False, \\n    method=\"first\"\\n)\\ndf = df[(df.rnk>1000) & (df.rnk<=3000)]\\ndf = df.drop(columns=[\"rnk\"])\\n'"
      ]
     },
     "execution_count": 10,
     "metadata": {"slideshow": {"slide_type": "slide"}},
     "output_type": "execute_result"
    }
   ],
   "source": [
    "# uncomment and execute the following to filter to small caps\n",
    "\n",
    "\"\"\"    \n",
    "df[\"rnk\"] = df.groupby(\"date\", group_keys=False).marketcap.rank(\n",
    "    ascending=False, \n",
    "    method=\"first\"\n",
    ")\n",
    "df = df[(df.rnk>1000) & (df.rnk<=3000)]\n",
    "df = df.drop(columns=[\"rnk\"])\n",
    "\"\"\""
   ]
  },
  {
   "cell_type": "code",
   "execution_count": 11,
   "metadata": {
    "slideshow": {
     "slide_type": "slide"
    }
   },
   "outputs": [],
   "source": [
    "sector = \"Healthcare\"\n",
    "df = df[df.sector==sector]"
   ]
  },
  {
   "cell_type": "markdown",
   "metadata": {
    "slideshow": {
     "slide_type": "slide"
    }
   },
   "source": [
    "## Define model and target\n",
    "\n",
    "- Current code uses max_depth=4 and n_estimators=200\n",
    "- Two possible targets: return in excess of the median or rank of the return.\n",
    "- Comment one of them out."
   ]
  },
  {
   "cell_type": "code",
   "execution_count": 12,
   "metadata": {
    "slideshow": {
     "slide_type": "slide"
    }
   },
   "outputs": [
    {
     "data": {
      "text/plain": [
       "' \\n# could use this instead\\n\\ndf[\"target\"] = df.groupby(\"date\", group_keys=False).ret.apply(\\n    lambda x: 100 * x.rank(pct=True)\\n)\\n'"
      ]
     },
     "execution_count": 12,
     "metadata": {"slideshow": {"slide_type": "slide"}},
     "output_type": "execute_result"
    }
   ],
   "source": [
    "from sklearn.ensemble import RandomForestRegressor\n",
    "forest = RandomForestRegressor(max_depth=4, n_estimators=200)\n",
    "\n",
    "\n",
    "df[\"target\"] = df.groupby(\"date\", group_keys=False).ret.apply(\n",
    "    lambda x: 100 * (x-x.median())\n",
    ")\n",
    "\n",
    "\"\"\" \n",
    "# could use this instead\n",
    "\n",
    "df[\"target\"] = df.groupby(\"date\", group_keys=False).ret.apply(\n",
    "    lambda x: 100 * x.rank(pct=True)\n",
    ")\n",
    "\"\"\"\n",
    "\n"
   ]
  },
  {
   "cell_type": "markdown",
   "metadata": {
    "slideshow": {
     "slide_type": "slide"
    }
   },
   "source": [
    "## Define predictors (features)\n",
    "\n",
    "- Leaving out interactions with market volatility, because they didn't seem to make much difference."
   ]
  },
  {
   "cell_type": "code",
   "execution_count": 13,
   "metadata": {
    "slideshow": {
     "slide_type": "slide"
    }
   },
   "outputs": [],
   "source": [
    "features = [\n",
    "    \"marketcap\", \n",
    "    \"pb\", \n",
    "    \"mom\", \n",
    "    \"volume\", \n",
    "    \"volatility\", \n",
    "    \"roe\", \n",
    "    \"accruals\",\n",
    "    \"agr\"\n",
    "]\n",
    "features.sort()"
   ]
  },
  {
   "cell_type": "markdown",
   "metadata": {
    "slideshow": {
     "slide_type": "slide"
    }
   },
   "source": [
    "## Define training dates and training windows\n",
    "\n",
    "- Start training once we have three years of data.\n",
    "- Specify num_years_for_training $\\ge 3$ as the number of years of past data to train on in each iteration of the backtesting loop."
   ]
  },
  {
   "cell_type": "code",
   "execution_count": 14,
   "metadata": {
    "slideshow": {
     "slide_type": "slide"
    }
   },
   "outputs": [],
   "source": [
    "num_years_for_training = 5"
   ]
  },
  {
   "cell_type": "code",
   "execution_count": 15,
   "metadata": {
    "slideshow": {
     "slide_type": "slide"
    }
   },
   "outputs": [],
   "source": [
    "dates = list(df.date.unique())\n",
    "dates.sort()\n",
    "train_dates = dates[156::52]  # once per year starting after three years\n",
    "\n",
    "past_dates = {}               # dates on which to train for each training date\n",
    "future_dates = {}             # dates for which to predict for each training date\n",
    "for date in train_dates:\n",
    "    start_index = dates.index(date) - 52*num_years_for_training\n",
    "    start_index = start_index if start_index >= 0 else 0\n",
    "    past_dates[date] = dates[start_index:dates.index(date)]\n",
    "    if date < train_dates[-1]:\n",
    "        future_dates[date] = dates[dates.index(date):(dates.index(date)+52)]\n",
    "    else:\n",
    "        future_dates[date] = dates[dates.index(date):]"
   ]
  },
  {
   "cell_type": "markdown",
   "metadata": {
    "slideshow": {
     "slide_type": "slide"
    }
   },
   "source": [
    "## Run the loop"
   ]
  },
  {
   "cell_type": "code",
   "execution_count": 16,
   "metadata": {
    "slideshow": {
     "slide_type": "slide"
    }
   },
   "outputs": [],
   "source": [
    "new_data = None\n",
    "for date in train_dates:\n",
    "    past = past_dates[date]\n",
    "    past = df[df.date.isin(past)]\n",
    "    future = future_dates[date]\n",
    "    future = df[df.date.isin(future)]\n",
    "    forest.fit(X=past[features], y=past.target)\n",
    "    predictions = forest.predict(X=future[features])\n",
    "    predictions = pd.DataFrame(predictions)\n",
    "    predictions.columns = [\"predict\"]\n",
    "    for col in [\"ticker\", \"date\"]:\n",
    "        predictions[col] = future[col].to_list()\n",
    "    new_data = pd.concat((new_data, predictions))\n",
    "    \n",
    "df = df.merge(new_data, on=[\"ticker\", \"date\"], how=\"inner\")"
   ]
  },
  {
   "cell_type": "code",
   "execution_count": 49,
   "metadata": {
    "slideshow": {
     "slide_type": "slide"
    }
   },
   "outputs": [
    {
     "data": {
      "text/plain": [
       "'2023-11-17'"
      ]
     },
     "execution_count": 49,
     "metadata": {"slideshow": {"slide_type": "slide"}},
     "output_type": "execute_result"
    }
   ],
   "source": [
    "future.date.max()"
   ]
  },
  {
   "cell_type": "markdown",
   "metadata": {
    "slideshow": {
     "slide_type": "slide"
    }
   },
   "source": [
    "## Calculate portfolio returns\n",
    "\n",
    "- Specify how many stocks you want to hold in each (long or short) portfolio"
   ]
  },
  {
   "cell_type": "code",
   "execution_count": 17,
   "metadata": {
    "slideshow": {
     "slide_type": "slide"
    }
   },
   "outputs": [],
   "source": [
    "numstocks = 50"
   ]
  },
  {
   "cell_type": "code",
   "execution_count": 18,
   "metadata": {
    "slideshow": {
     "slide_type": "slide"
    }
   },
   "outputs": [],
   "source": [
    "df[\"rnk_long\"] = df.groupby(\"date\", group_keys=False).predict.rank(\n",
    "    ascending=False,\n",
    "    method=\"first\"\n",
    ")\n",
    "df[\"rnk_short\"] = df.groupby(\"date\", group_keys=False).predict.rank(\n",
    "    ascending=True,\n",
    "    method=\"first\"\n",
    ")\n",
    "\n",
    "\n",
    "longs = df[df.rnk_long<=numstocks]\n",
    "shorts = df[df.rnk_short<=numstocks]"
   ]
  },
  {
   "cell_type": "code",
   "execution_count": 19,
   "metadata": {
    "slideshow": {
     "slide_type": "slide"
    }
   },
   "outputs": [
    {
     "name": "stdout",
     "output_type": "stream",
     "text": [
      "mean annualized long return is 24.00%\n",
      "mean annualized short return is -24.55%\n"
     ]
    }
   ],
   "source": [
    "long_ret = longs.groupby(\"date\").ret.mean()\n",
    "short_ret = shorts.groupby(\"date\").ret.mean()\n",
    "print(f\"mean annualized long return is {52*long_ret.mean():.2%}\")\n",
    "print(f\"mean annualized short return is {52*short_ret.mean():.2%}\")"
   ]
  },
  {
   "cell_type": "markdown",
   "metadata": {
    "slideshow": {
     "slide_type": "slide"
    }
   },
   "source": [
    "## Analyze fitted model on most recent data"
   ]
  },
  {
   "cell_type": "code",
   "execution_count": 53,
   "metadata": {
    "slideshow": {
     "slide_type": "slide"
    }
   },
   "outputs": [],
   "source": [
    "present = future[future.date==future.date.max()]\n",
    "medians = present[features].median()\n",
    "medians = pd.DataFrame(medians).T"
   ]
  },
  {
   "cell_type": "code",
   "execution_count": 54,
   "metadata": {
    "slideshow": {
     "slide_type": "slide"
    }
   },
   "outputs": [],
   "source": [
    "import numpy as np\n",
    "import matplotlib.pyplot as plt\n",
    "import seaborn as sns\n",
    "sns.set_style(\"whitegrid\")\n",
    "\n",
    "def predict1(char):\n",
    "    data = medians.copy()\n",
    "    grid = np.linspace(\n",
    "        present[char].quantile(0.01), \n",
    "        present[char].quantile(0.99), \n",
    "        100\n",
    "    )\n",
    "    predictions = []\n",
    "    for x in grid:\n",
    "        data[char] = x\n",
    "        prediction = forest.predict(X=data).item()\n",
    "        predictions.append(prediction)\n",
    "    return grid, predictions"
   ]
  },
  {
   "cell_type": "code",
   "execution_count": 55,
   "metadata": {
    "slideshow": {
     "slide_type": "slide"
    }
   },
   "outputs": [],
   "source": [
    "def predict2(char1, char2):\n",
    "    data = medians.copy()\n",
    "    grid1 = np.linspace(\n",
    "        present[char1].quantile(0.005), \n",
    "        present[char1].quantile(0.995), \n",
    "        20\n",
    "    )\n",
    "    grid2 = np.linspace(\n",
    "        present[char2].quantile(0.01), \n",
    "        present[char2].quantile(0.99), \n",
    "        20\n",
    "    )\n",
    "    grid1, grid2 = np.meshgrid(grid1, grid2)\n",
    "    predictions = np.empty(grid1.shape)\n",
    "    for i in range(20):\n",
    "        for j in range(20):\n",
    "            data[char1] = grid1[i, j]\n",
    "            data[char2] = grid2[i, j]\n",
    "            predictions[i, j] = forest.predict(data)\n",
    "    return grid1, grid2, predictions"
   ]
  },
  {
   "cell_type": "markdown",
   "metadata": {
    "slideshow": {
     "slide_type": "slide"
    }
   },
   "source": [
    "### Feature importances"
   ]
  },
  {
   "cell_type": "code",
   "execution_count": 56,
   "metadata": {
    "slideshow": {
     "slide_type": "slide"
    }
   },
   "outputs": [
    {
     "data": {
      "text/plain": [
       "pb            0.385\n",
       "marketcap     0.152\n",
       "volume        0.136\n",
       "agr           0.094\n",
       "volatility    0.086\n",
       "mom           0.074\n",
       "accruals      0.057\n",
       "roe           0.016\n",
       "dtype: float64"
      ]
     },
     "execution_count": 56,
     "metadata": {"slideshow": {"slide_type": "slide"}},
     "output_type": "execute_result"
    }
   ],
   "source": [
    "importances = pd.Series(forest.feature_importances_, index=features)\n",
    "importances.sort_values(ascending=False).round(3)"
   ]
  },
  {
   "cell_type": "markdown",
   "metadata": {
    "slideshow": {
     "slide_type": "slide"
    }
   },
   "source": [
    "### Vary one characteristic at a time and plot\n",
    "\n",
    "- Specify which characteristic"
   ]
  },
  {
   "cell_type": "code",
   "execution_count": 60,
   "metadata": {
    "slideshow": {
     "slide_type": "slide"
    }
   },
   "outputs": [
    {
     "data": {
      "image/png": "[encoded data removed]",
      "text/plain": [
       "<Figure size 640x480 with 1 Axes>"
      ]
     },
     "metadata": {"slideshow": {"slide_type": "slide"}},
     "output_type": "display_data"
    }
   ],
   "source": [
    "char = \"agr\"\n",
    "\n",
    "grid, predictions = predict1(char)\n",
    "plt.plot(grid, predictions)\n",
    "plt.xlabel(char,  fontdict={\"size\": 14})\n",
    "plt.ylabel(\"prediction\",  fontdict={\"size\": 14})\n",
    "plt.show()"
   ]
  },
  {
   "cell_type": "markdown",
   "metadata": {
    "slideshow": {
     "slide_type": "slide"
    }
   },
   "source": [
    "### Vary two characteristics at a time and plot\n",
    "\n",
    "- Specify which characteristics"
   ]
  },
  {
   "cell_type": "code",
   "execution_count": 40,
   "metadata": {
    "slideshow": {
     "slide_type": "slide"
    }
   },
   "outputs": [
    {
     "data": {
      "image/png": "[encoded data removed]",
      "text/plain": [
       "<Figure size 640x480 with 2 Axes>"
      ]
     },
     "metadata": {"slideshow": {"slide_type": "slide"}},
     "output_type": "display_data"
    }
   ],
   "source": [
    "char1 = \"pb\"  \n",
    "char2 = \"marketcap\"  \n",
    "\n",
    "grid1, grid2, predictions = predict2(char1, char2)\n",
    "contour = plt.contourf(grid1, grid2, predictions, 20, cmap=\"viridis\")\n",
    "cbar = plt.colorbar(contour)\n",
    "plt.xlabel(char1, fontdict={\"size\": 14})\n",
    "plt.ylabel(char2, fontdict={\"size\": 14})\n",
    "plt.show()"
   ]
  }
 ],
 "metadata": {
  "kernelspec": {
   "display_name": "Python 3",
   "language": "python",
   "name": "python3"
  },
  "language_info": {
   "codemirror_mode": {
    "name": "ipython",
    "version": 3
   },
   "file_extension": ".py",
   "mimetype": "text/x-python",
   "name": "python",
   "nbconvert_exporter": "python",
   "pygments_lexer": "ipython3",
   "version": "3.10.8"
  }
 },
 "nbformat": 4,
 "nbformat_minor": 2
}
