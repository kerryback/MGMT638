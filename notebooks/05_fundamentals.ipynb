{
 "cells": [
  {
   "cell_type": "markdown",
   "metadata": {"slideshow": {"slide_type": "slide"}},
   "source": [
    "<a target=\"_blank\" href=\"https://colab.research.google.com/github/kerryback/mgmt638/blob/main/notebooks/05_fundamentals.ipynb\">\n",
    "  <img src=\"https://colab.research.google.com/assets/colab-badge.svg\" alt=\"Open In Colab\"/>\n",
    "</a>"
   ]
  },
  {
   "cell_type": "markdown",
   "metadata": {"slideshow": {"slide_type": "slide"}},
   "source": [
    "### Factors\n",
    "\n",
    "- Value \n",
    "- Momentum\n",
    "- Quality\n",
    "  - Profitability\n",
    "  - Low accruals\n",
    "  - Low asset growth\n",
    "  - Low default probability\n",
    "- Volatility (low vol and/or low idiosyncratic vol)\n",
    "- Liquidity (high volume)"
   ]
  },
  {
   "cell_type": "markdown",
   "metadata": {"slideshow": {"slide_type": "slide"}},
   "source": [
    "### Data\n",
    "\n",
    "- closeadj, closeunadj, volume from sep_weekly\n",
    "- marketcap, pb from weekly\n",
    "- netinc, equity, assets, ncfo from sf1 where dimension=\"ARQ\"\n",
    "\n"
   ]
  },
  {
   "cell_type": "markdown",
   "metadata": {"slideshow": {"slide_type": "slide"}},
   "source": [
    "### Financial Statement Variables\n",
    "\n",
    "- Use trailing 4 quarters:\n",
    "  - netinc, ncfo = sum of prior 4 quarters\n",
    "  - equity, assets = average of prior 4 quarters\n",
    "- Variables:\n",
    "  - roe = netinc / equity\n",
    "  - accruals = (netinc - ncfo) / equity\n",
    "  - agr = % change in assets"
   ]
  },
  {
   "cell_type": "markdown",
   "metadata": {"slideshow": {"slide_type": "slide"}},
   "source": [
    "## Create connection"
   ]
  },
  {
   "cell_type": "code",
   "execution_count": 1,
   "metadata": {"slideshow": {"slide_type": "slide"}},
   "outputs": [],
   "source": [
    "import pandas as pd\n",
    "\n",
    "from sqlalchemy import create_engine\n",
    "import pymssql\n",
    "server = 'fs.rice.edu'\n",
    "database = 'stocks'\n",
    "username = 'stocks'\n",
    "password = '6LAZH1'\n",
    "string = \"mssql+pymssql://\" + username + \":\" + password + \"@\" + server + \"/\" + database \n",
    "conn = create_engine(string).connect()"
   ]
  },
  {
   "cell_type": "markdown",
   "metadata": {"slideshow": {"slide_type": "slide"}},
   "source": [
    "## Calculate financial ratios and growth rates\n",
    "\n",
    "Data from SF1"
   ]
  },
  {
   "cell_type": "code",
   "execution_count": 2,
   "metadata": {"slideshow": {"slide_type": "slide"}},
   "outputs": [],
   "source": [
    "sf1 = pd.read_sql(\n",
    "    \"\"\" \n",
    "    select ticker, datekey, lastupdated, netinc, ncfo, equity, assets \n",
    "    from sf1\n",
    "    where dimension='ARQ' and datekey>='2009-01-01' and equity>0 and assets>0\n",
    "    order by ticker, datekey\n",
    "    \"\"\",\n",
    "    conn,\n",
    "    parse_dates=[\"datekey\"]\n",
    ")\n",
    "sf1 = sf1.groupby([\"ticker\", \"datekey\", \"lastupdated\"]).last()\n",
    "sf1 = sf1.droplevel(\"lastupdated\")\n",
    "sf1 = sf1.reset_index()"
   ]
  },
  {
   "cell_type": "code",
   "execution_count": 3,
   "metadata": {"slideshow": {"slide_type": "slide"}},
   "outputs": [],
   "source": [
    "for col in [\"netinc\", \"ncfo\"]:\n",
    "    sf1[col] = sf1.groupby(\"ticker\", group_keys=False)[col].apply(lambda x: x.rolling(4).sum())\n",
    "for col in [\"equity\", \"assets\"]:\n",
    "    sf1[col] = sf1.groupby(\"ticker\", group_keys=False)[col].apply(lambda x: x.rolling(4).mean())\n",
    "\n",
    "sf1[\"roe\"] = sf1.netinc / sf1.equity\n",
    "sf1[\"accruals\"] = (sf1.netinc - sf1.ncfo) / sf1.equity\n",
    "sf1[\"agr\"] = sf1.groupby(\"ticker\", group_keys=False)[\"assets\"].pct_change()\n",
    "sf1 = sf1[[\"ticker\", \"datekey\", \"roe\", \"accruals\", \"agr\"]].dropna()"
   ]
  },
  {
   "cell_type": "markdown",
   "metadata": {"slideshow": {"slide_type": "slide"}},
   "source": [
    "## Returns, momentum, volatility, closeunadj\n",
    "\n",
    "Data from sep_weekly"
   ]
  },
  {
   "cell_type": "code",
   "execution_count": 4,
   "metadata": {"slideshow": {"slide_type": "slide"}},
   "outputs": [],
   "source": [
    "sep_weekly = pd.read_sql(\n",
    "    \"\"\" \n",
    "    select ticker, date, closeadj, closeunadj, lastupdated \n",
    "    from sep_weekly \n",
    "    where date>='2010-01-01'\n",
    "    order by ticker, date, lastupdated    \n",
    "    \"\"\",\n",
    "    conn,\n",
    "    parse_dates=[\"date\"]\n",
    ")\n",
    "sep_weekly = sep_weekly.groupby([\"ticker\", \"date\", \"lastupdated\"]).last()\n",
    "sep_weekly = sep_weekly.droplevel(\"lastupdated\")"
   ]
  },
  {
   "cell_type": "code",
   "execution_count": 5,
   "metadata": {"slideshow": {"slide_type": "slide"}},
   "outputs": [],
   "source": [
    "sep_weekly[\"ret\"] = sep_weekly.groupby(\"ticker\", group_keys=False).closeadj.pct_change()\n",
    "sep_weekly[\"annual\"] = sep_weekly.groupby(\"ticker\", group_keys=False).closeadj.pct_change(52)\n",
    "sep_weekly[\"monthly\"] = sep_weekly.groupby(\"ticker\", group_keys=False).closeadj.pct_change(4)\n",
    "sep_weekly[\"mom\"] = sep_weekly.groupby(\"ticker\", group_keys=False).apply(\n",
    "    lambda d: (1+d.annual)/(1+d.monthly) - 1\n",
    ")\n",
    "sep_weekly[\"vol\"] = sep_weekly.groupby(\"ticker\", group_keys=False).ret.apply(lambda x: x.rolling(26).std())\n",
    "sep_weekly = sep_weekly[[\"ret\", \"mom\", \"vol\", \"closeunadj\"]].dropna().reset_index()"
   ]
  },
  {
   "cell_type": "markdown",
   "metadata": {"slideshow": {"slide_type": "slide"}},
   "source": [
    "## Get marketcap and pb\n",
    "\n",
    "Data from weekly"
   ]
  },
  {
   "cell_type": "code",
   "execution_count": 6,
   "metadata": {"slideshow": {"slide_type": "slide"}},
   "outputs": [],
   "source": [
    "weekly = pd.read_sql(\n",
    "    \"\"\" \n",
    "    select ticker, date, marketcap, pb, lastupdated\n",
    "    from weekly\n",
    "    where date>='2010-01-01' and marketcap>0 and pb>0\n",
    "    order by ticker, date, lastupdated\n",
    "    \"\"\",\n",
    "    conn,\n",
    "    parse_dates=[\"date\"]\n",
    ")\n",
    "weekly = weekly.groupby([\"ticker\", \"date\", \"lastupdated\"]).last()\n",
    "weekly = weekly.droplevel(\"lastupdated\")\n",
    "weekly = weekly.dropna().reset_index()"
   ]
  },
  {
   "cell_type": "markdown",
   "metadata": {"slideshow": {"slide_type": "slide"}},
   "source": [
    "## Merge data"
   ]
  },
  {
   "cell_type": "code",
   "execution_count": 7,
   "metadata": {"slideshow": {"slide_type": "slide"}},
   "outputs": [],
   "source": [
    "df = weekly.merge(sep_weekly, on=[\"ticker\", \"date\"], how=\"inner\")\n",
    "for col in [\"pb\", \"mom\", \"vol\", \"marketcap\", \"closeunadj\"]:\n",
    "    df[col] = df.groupby(\"ticker\", group_keys=False)[col].shift()\n",
    "df[\"year\"] = df.date.apply(lambda x: x.isocalendar()[0])\n",
    "df[\"week\"] = df.date.apply(lambda x: x.isocalendar()[1])\n",
    "sf1[\"year\"] = sf1.datekey.apply(lambda x: x.isocalendar()[0])\n",
    "sf1[\"week\"] = sf1.datekey.apply(lambda x: x.isocalendar()[1])\n",
    "df = df.merge(sf1, on=[\"ticker\", \"year\", \"week\"])"
   ]
  },
  {
   "cell_type": "markdown",
   "metadata": {"slideshow": {"slide_type": "slide"}},
   "source": [
    "## Filter to small caps and exclude penny stocks"
   ]
  },
  {
   "cell_type": "code",
   "execution_count": 8,
   "metadata": {"slideshow": {"slide_type": "slide"}},
   "outputs": [],
   "source": [
    "df = df[df.closeunadj>5]\n",
    "df[\"rnk\"] = df.groupby(\"date\").marketcap.rank(\n",
    "    ascending=False, \n",
    "    method=\"first\"\n",
    ")\n",
    "df = df[(df.rnk>1000) & (df.rnk<=3000)]\n",
    "df = df.reset_index().set_index([\"ticker\", \"date\"])"
   ]
  },
  {
   "cell_type": "code",
   "execution_count": 10,
   "metadata": {"slideshow": {"slide_type": "slide"}},
   "outputs": [
    {
     "data": {
      "text/html": [
       "<div>\n",
       "<style scoped>\n",
       "    .dataframe tbody tr th:only-of-type {\n",
       "        vertical-align: middle;\n",
       "    }\n",
       "\n",
       "    .dataframe tbody tr th {\n",
       "        vertical-align: top;\n",
       "    }\n",
       "\n",
       "    .dataframe thead th {\n",
       "        text-align: right;\n",
       "    }\n",
       "</style>\n",
       "<table border=\"1\" class=\"dataframe\">\n",
       "  <thead>\n",
       "    <tr style=\"text-align: right;\">\n",
       "      <th></th>\n",
       "      <th></th>\n",
       "      <th>index</th>\n",
       "      <th>pb</th>\n",
       "      <th>ret</th>\n",
       "      <th>mom</th>\n",
       "      <th>vol</th>\n",
       "      <th>roe</th>\n",
       "      <th>accruals</th>\n",
       "      <th>agr</th>\n",
       "    </tr>\n",
       "    <tr>\n",
       "      <th>ticker</th>\n",
       "      <th>date</th>\n",
       "      <th></th>\n",
       "      <th></th>\n",
       "      <th></th>\n",
       "      <th></th>\n",
       "      <th></th>\n",
       "      <th></th>\n",
       "      <th></th>\n",
       "      <th></th>\n",
       "    </tr>\n",
       "  </thead>\n",
       "  <tbody>\n",
       "    <tr>\n",
       "      <th rowspan=\"3\" valign=\"top\">AACH</th>\n",
       "      <th>2017-05-05</th>\n",
       "      <td>91</td>\n",
       "      <td>1.0</td>\n",
       "      <td>-0.008357</td>\n",
       "      <td>-0.577655</td>\n",
       "      <td>0.127541</td>\n",
       "      <td>-0.010791</td>\n",
       "      <td>-0.012126</td>\n",
       "      <td>0.056630</td>\n",
       "    </tr>\n",
       "    <tr>\n",
       "      <th>2017-08-04</th>\n",
       "      <td>92</td>\n",
       "      <td>1.0</td>\n",
       "      <td>-0.062780</td>\n",
       "      <td>-0.687003</td>\n",
       "      <td>0.056854</td>\n",
       "      <td>-0.027568</td>\n",
       "      <td>-0.040935</td>\n",
       "      <td>0.029186</td>\n",
       "    </tr>\n",
       "    <tr>\n",
       "      <th>2018-11-09</th>\n",
       "      <td>97</td>\n",
       "      <td>1.0</td>\n",
       "      <td>-0.188073</td>\n",
       "      <td>-0.095122</td>\n",
       "      <td>0.066100</td>\n",
       "      <td>-0.220314</td>\n",
       "      <td>-0.125066</td>\n",
       "      <td>0.047605</td>\n",
       "    </tr>\n",
       "    <tr>\n",
       "      <th rowspan=\"2\" valign=\"top\">AAIC</th>\n",
       "      <th>2015-05-08</th>\n",
       "      <td>143</td>\n",
       "      <td>0.8</td>\n",
       "      <td>-0.075194</td>\n",
       "      <td>0.085155</td>\n",
       "      <td>0.024263</td>\n",
       "      <td>-0.148604</td>\n",
       "      <td>-0.297240</td>\n",
       "      <td>0.061403</td>\n",
       "    </tr>\n",
       "    <tr>\n",
       "      <th>2015-11-06</th>\n",
       "      <td>145</td>\n",
       "      <td>0.6</td>\n",
       "      <td>-0.050866</td>\n",
       "      <td>-0.381870</td>\n",
       "      <td>0.036616</td>\n",
       "      <td>-0.216424</td>\n",
       "      <td>-0.402808</td>\n",
       "      <td>0.009815</td>\n",
       "    </tr>\n",
       "  </tbody>\n",
       "</table>\n",
       "</div>"
      ],
      "text/plain": [
       "                   index   pb       ret       mom       vol       roe  \\\n",
       "ticker date                                                             \n",
       "AACH   2017-05-05     91  1.0 -0.008357 -0.577655  0.127541 -0.010791   \n",
       "       2017-08-04     92  1.0 -0.062780 -0.687003  0.056854 -0.027568   \n",
       "       2018-11-09     97  1.0 -0.188073 -0.095122  0.066100 -0.220314   \n",
       "AAIC   2015-05-08    143  0.8 -0.075194  0.085155  0.024263 -0.148604   \n",
       "       2015-11-06    145  0.6 -0.050866 -0.381870  0.036616 -0.216424   \n",
       "\n",
       "                   accruals       agr  \n",
       "ticker date                            \n",
       "AACH   2017-05-05 -0.012126  0.056630  \n",
       "       2017-08-04 -0.040935  0.029186  \n",
       "       2018-11-09 -0.125066  0.047605  \n",
       "AAIC   2015-05-08 -0.297240  0.061403  \n",
       "       2015-11-06 -0.402808  0.009815  "
      ]
     },
     "execution_count": 10,
     "metadata": {"slideshow": {"slide_type": "slide"}},
     "output_type": "execute_result"
    }
   ],
   "source": [
    "df = df.drop(columns=[\"marketcap\", \"closeunadj\", \"year\", \"week\", \"datekey\", \"rnk\"])\n",
    "df.head()"
   ]
  }
 ],
 "metadata": {
  "kernelspec": {
   "display_name": "Python 3",
   "language": "python",
   "name": "python3"
  },
  "language_info": {
   "codemirror_mode": {
    "name": "ipython",
    "version": 3
   },
   "file_extension": ".py",
   "mimetype": "text/x-python",
   "name": "python",
   "nbconvert_exporter": "python",
   "pygments_lexer": "ipython3",
   "version": "3.10.7"
  }
 },
 "nbformat": 4,
 "nbformat_minor": 2
}
