{
 "cells": [
  {
   "cell_type": "markdown",
   "metadata": {
    "slideshow": {
     "slide_type": "skip"
    }
   },
   "source": [
    "<a target=\"_blank\" href=\"https://colab.research.google.com/github/kerryback/mgmt638/blob/main/notebooks/06a-random_forest_backtest.ipynb\">\n",
    "  <img src=\"https://colab.research.google.com/assets/colab-badge.svg\" alt=\"Open In Colab\"/>\n",
    "</a>"
   ]
  },
  {
   "cell_type": "markdown",
   "metadata": {"slideshow": {"slide_type": "slide"}},
   "source": [
    "# Backtesting a Random Forest\n",
    "\n",
    "### MGMT 638: Data-Driven Investments: Equity\n",
    "### Kerry Back, Rice University"
   ]
  },
  {
   "cell_type": "markdown",
   "metadata": {"slideshow": {"slide_type": "slide"}},
   "source": [
    "## Outline\n",
    "\n",
    "- Read data saved in 05a-fundamentals.ipynb\n",
    "- Loop over specified training dates (e.g., once per year)\n",
    "  - At each training date, train the random forest on prior data\n",
    "  - Use the trained model to make predictions until the next training date\n",
    "- Use the predictions to form portfolios\n",
    "  - Best and worst stocks each week\n",
    "  - Best and worst stocks in each sector each week\n",
    "- Compare returns of equally weighted portfolios (long and short)  "
   ]
  },
  {
   "cell_type": "markdown",
   "metadata": {"slideshow": {"slide_type": "slide"}},
   "source": [
    "- This is what we did last week, except\n",
    "- Instead of combining value and momentum ranks, we make predictions based on\n",
    "  - the model trained on prior data\n",
    "  - more characteristics: marketcap, volume, volatility, ..."
   ]
  },
  {
   "cell_type": "markdown",
   "metadata": {"slideshow": {"slide_type": "slide"}},
   "source": [
    "## Read data"
   ]
  },
  {
   "cell_type": "code",
   "execution_count": 1,
   "metadata": {"slideshow": {"slide_type": "slide"}},
   "outputs": [
    {
     "data": {
      "text/html": [
       "<div>\n",
       "<style scoped>\n",
       "    .dataframe tbody tr th:only-of-type {\n",
       "        vertical-align: middle;\n",
       "    }\n",
       "\n",
       "    .dataframe tbody tr th {\n",
       "        vertical-align: top;\n",
       "    }\n",
       "\n",
       "    .dataframe thead th {\n",
       "        text-align: right;\n",
       "    }\n",
       "</style>\n",
       "<table border=\"1\" class=\"dataframe\">\n",
       "  <thead>\n",
       "    <tr style=\"text-align: right;\">\n",
       "      <th></th>\n",
       "      <th>ticker</th>\n",
       "      <th>date</th>\n",
       "      <th>marketcap</th>\n",
       "      <th>pb</th>\n",
       "      <th>ret</th>\n",
       "      <th>mom</th>\n",
       "      <th>volume</th>\n",
       "      <th>volatility</th>\n",
       "      <th>roe</th>\n",
       "      <th>accruals</th>\n",
       "      <th>agr</th>\n",
       "      <th>sector</th>\n",
       "    </tr>\n",
       "  </thead>\n",
       "  <tbody>\n",
       "    <tr>\n",
       "      <th>0</th>\n",
       "      <td>AACC</td>\n",
       "      <td>2011-01-14</td>\n",
       "      <td>188.3</td>\n",
       "      <td>1.4</td>\n",
       "      <td>-0.014634</td>\n",
       "      <td>-0.184615</td>\n",
       "      <td>2.078000e+04</td>\n",
       "      <td>0.071498</td>\n",
       "      <td>-0.118239</td>\n",
       "      <td>-0.182275</td>\n",
       "      <td>0.004383</td>\n",
       "      <td>Financial Services</td>\n",
       "    </tr>\n",
       "    <tr>\n",
       "      <th>1</th>\n",
       "      <td>AAI</td>\n",
       "      <td>2011-01-14</td>\n",
       "      <td>1012.1</td>\n",
       "      <td>2.0</td>\n",
       "      <td>0.002677</td>\n",
       "      <td>0.438224</td>\n",
       "      <td>2.775580e+06</td>\n",
       "      <td>0.128450</td>\n",
       "      <td>0.108073</td>\n",
       "      <td>-0.220045</td>\n",
       "      <td>0.002237</td>\n",
       "      <td>Industrials</td>\n",
       "    </tr>\n",
       "    <tr>\n",
       "      <th>2</th>\n",
       "      <td>AAIC</td>\n",
       "      <td>2011-01-14</td>\n",
       "      <td>189.3</td>\n",
       "      <td>1.0</td>\n",
       "      <td>-0.010119</td>\n",
       "      <td>0.684547</td>\n",
       "      <td>3.466000e+04</td>\n",
       "      <td>0.048505</td>\n",
       "      <td>0.136967</td>\n",
       "      <td>0.108055</td>\n",
       "      <td>0.135697</td>\n",
       "      <td>Real Estate</td>\n",
       "    </tr>\n",
       "    <tr>\n",
       "      <th>3</th>\n",
       "      <td>AAON</td>\n",
       "      <td>2011-01-14</td>\n",
       "      <td>479.4</td>\n",
       "      <td>4.2</td>\n",
       "      <td>0.007778</td>\n",
       "      <td>0.528685</td>\n",
       "      <td>2.817291e+05</td>\n",
       "      <td>0.044912</td>\n",
       "      <td>0.191801</td>\n",
       "      <td>-0.088557</td>\n",
       "      <td>0.011656</td>\n",
       "      <td>Basic Materials</td>\n",
       "    </tr>\n",
       "    <tr>\n",
       "      <th>4</th>\n",
       "      <td>AATC</td>\n",
       "      <td>2011-01-14</td>\n",
       "      <td>63.3</td>\n",
       "      <td>1.4</td>\n",
       "      <td>-0.013960</td>\n",
       "      <td>0.008216</td>\n",
       "      <td>6.800000e+03</td>\n",
       "      <td>0.049756</td>\n",
       "      <td>0.072269</td>\n",
       "      <td>-0.008792</td>\n",
       "      <td>0.089436</td>\n",
       "      <td>Technology</td>\n",
       "    </tr>\n",
       "  </tbody>\n",
       "</table>\n",
       "</div>"
      ],
      "text/plain": [
       "  ticker        date  marketcap   pb       ret       mom        volume  \\\n",
       "0   AACC  2011-01-14      188.3  1.4 -0.014634 -0.184615  2.078000e+04   \n",
       "1    AAI  2011-01-14     1012.1  2.0  0.002677  0.438224  2.775580e+06   \n",
       "2   AAIC  2011-01-14      189.3  1.0 -0.010119  0.684547  3.466000e+04   \n",
       "3   AAON  2011-01-14      479.4  4.2  0.007778  0.528685  2.817291e+05   \n",
       "4   AATC  2011-01-14       63.3  1.4 -0.013960  0.008216  6.800000e+03   \n",
       "\n",
       "   volatility       roe  accruals       agr              sector  \n",
       "0    0.071498 -0.118239 -0.182275  0.004383  Financial Services  \n",
       "1    0.128450  0.108073 -0.220045  0.002237         Industrials  \n",
       "2    0.048505  0.136967  0.108055  0.135697         Real Estate  \n",
       "3    0.044912  0.191801 -0.088557  0.011656     Basic Materials  \n",
       "4    0.049756  0.072269 -0.008792  0.089436          Technology  "
      ]
     },
     "execution_count": 1,
     "metadata": {"slideshow": {"slide_type": "slide"}},
     "output_type": "execute_result"
    }
   ],
   "source": [
    "import pandas as pd\n",
    "\n",
    "# change path_to_file to \"./\" if the file is in your working directory\n",
    "path_to_file = \"../../\"\n",
    "\n",
    "df = pd.read_csv(path_to_file + \"data-2023-11-08.csv\")\n",
    "df.head()"
   ]
  },
  {
   "cell_type": "markdown",
   "metadata": {"slideshow": {"slide_type": "slide"}},
   "source": [
    "## Define model and target"
   ]
  },
  {
   "cell_type": "code",
   "execution_count": 2,
   "metadata": {"slideshow": {"slide_type": "slide"}},
   "outputs": [],
   "source": [
    "from sklearn.ensemble import RandomForestRegressor\n",
    "forest = RandomForestRegressor(max_depth=3)\n",
    "\n",
    "df[\"target\"] = df.groupby(\"date\", group_keys=False).ret.apply(\n",
    "    lambda x: x - x.median()\n",
    ")"
   ]
  },
  {
   "cell_type": "markdown",
   "metadata": {"slideshow": {"slide_type": "slide"}},
   "source": [
    "## Define predictors (features)"
   ]
  },
  {
   "cell_type": "code",
   "execution_count": 3,
   "metadata": {"slideshow": {"slide_type": "slide"}},
   "outputs": [],
   "source": [
    "features = [\n",
    "    \"marketcap\", \n",
    "    \"pb\", \n",
    "    \"mom\", \n",
    "    \"volume\", \n",
    "    \"volatility\", \n",
    "    \"roe\", \n",
    "    \"accruals\"\n",
    "]"
   ]
  },
  {
   "cell_type": "markdown",
   "metadata": {"slideshow": {"slide_type": "slide"}},
   "source": [
    "## Define training dates"
   ]
  },
  {
   "cell_type": "code",
   "execution_count": 4,
   "metadata": {"slideshow": {"slide_type": "slide"}},
   "outputs": [
    {
     "data": {
      "text/plain": [
       "array(['2012-01-13', '2013-01-11', '2014-01-10', '2015-01-09',\n",
       "       '2016-01-08', '2017-01-06', '2018-01-05', '2019-01-04',\n",
       "       '2020-01-03', '2020-12-31', '2021-12-31', '2022-12-30'],\n",
       "      dtype=object)"
      ]
     },
     "execution_count": 4,
     "metadata": {"slideshow": {"slide_type": "slide"}},
     "output_type": "execute_result"
    }
   ],
   "source": [
    "# how many weeks to use for the initial fitting of the model\n",
    "initial_weeks = 52\n",
    "\n",
    "# how frequent to retrain the model\n",
    "# retrain_weeks=4 means every four weeks, retrain_weeks=52 means once per year, ...\n",
    "retrain_weeks = 52\n",
    "\n",
    "dates = df.date.unique()\n",
    "dates.sort()\n",
    "train_dates = dates[initial_weeks::retrain_weeks]\n",
    "train_dates"
   ]
  },
  {
   "cell_type": "markdown",
   "metadata": {"slideshow": {"slide_type": "slide"}},
   "source": [
    "## Run the loop"
   ]
  },
  {
   "cell_type": "code",
   "execution_count": 5,
   "metadata": {"slideshow": {"slide_type": "slide"}},
   "outputs": [],
   "source": [
    "predict_dates = {}\n",
    "for i, date in enumerate(train_dates[:-1]):\n",
    "    predict_dates[date] = [d for d in dates if d>date and d<=train_dates[i+1]]\n",
    "predict_dates[train_dates[-1]] = [d for d in dates if d>train_dates[-1]]"
   ]
  },
  {
   "cell_type": "code",
   "execution_count": 6,
   "metadata": {"slideshow": {"slide_type": "slide"}},
   "outputs": [],
   "source": [
    "new_data = None\n",
    "for train_date in train_dates:\n",
    "    past = df[df.date<=train_date]\n",
    "    future = df[df.date.isin(predict_dates[train_date])]\n",
    "    forest.fit(X=past[features], y=past.target)\n",
    "    predictions = forest.predict(X=future[features])\n",
    "    predictions = pd.DataFrame(predictions)\n",
    "    predictions.columns = [\"predict\"]\n",
    "    for col in [\"ticker\", \"date\"]:\n",
    "        predictions[col] = future[col].to_list()\n",
    "    new_data = pd.concat((new_data, predictions))\n",
    "df = df.merge(new_data, on=[\"ticker\", \"date\"], how=\"inner\")"
   ]
  },
  {
   "cell_type": "code",
   "execution_count": 7,
   "metadata": {"slideshow": {"slide_type": "slide"}},
   "outputs": [
    {
     "data": {
      "text/html": [
       "<div>\n",
       "<style scoped>\n",
       "    .dataframe tbody tr th:only-of-type {\n",
       "        vertical-align: middle;\n",
       "    }\n",
       "\n",
       "    .dataframe tbody tr th {\n",
       "        vertical-align: top;\n",
       "    }\n",
       "\n",
       "    .dataframe thead th {\n",
       "        text-align: right;\n",
       "    }\n",
       "</style>\n",
       "<table border=\"1\" class=\"dataframe\">\n",
       "  <thead>\n",
       "    <tr style=\"text-align: right;\">\n",
       "      <th></th>\n",
       "      <th>ticker</th>\n",
       "      <th>date</th>\n",
       "      <th>marketcap</th>\n",
       "      <th>pb</th>\n",
       "      <th>ret</th>\n",
       "      <th>mom</th>\n",
       "      <th>volume</th>\n",
       "      <th>volatility</th>\n",
       "      <th>roe</th>\n",
       "      <th>accruals</th>\n",
       "      <th>agr</th>\n",
       "      <th>sector</th>\n",
       "      <th>target</th>\n",
       "      <th>predict</th>\n",
       "    </tr>\n",
       "  </thead>\n",
       "  <tbody>\n",
       "    <tr>\n",
       "      <th>1214407</th>\n",
       "      <td>ZNTL</td>\n",
       "      <td>2023-11-06</td>\n",
       "      <td>1262.5</td>\n",
       "      <td>2.4</td>\n",
       "      <td>-0.302013</td>\n",
       "      <td>-0.174662</td>\n",
       "      <td>743655.8</td>\n",
       "      <td>0.086553</td>\n",
       "      <td>-0.627662</td>\n",
       "      <td>-0.179132</td>\n",
       "      <td>0.025936</td>\n",
       "      <td>Healthcare</td>\n",
       "      <td>-0.292998</td>\n",
       "      <td>0.001431</td>\n",
       "    </tr>\n",
       "    <tr>\n",
       "      <th>1214408</th>\n",
       "      <td>ZUMZ</td>\n",
       "      <td>2023-11-06</td>\n",
       "      <td>335.0</td>\n",
       "      <td>0.9</td>\n",
       "      <td>-0.023063</td>\n",
       "      <td>-0.245402</td>\n",
       "      <td>201904.4</td>\n",
       "      <td>0.053633</td>\n",
       "      <td>-0.021791</td>\n",
       "      <td>-0.020549</td>\n",
       "      <td>-0.004926</td>\n",
       "      <td>Consumer Cyclical</td>\n",
       "      <td>-0.014048</td>\n",
       "      <td>0.001431</td>\n",
       "    </tr>\n",
       "    <tr>\n",
       "      <th>1214409</th>\n",
       "      <td>ZUO</td>\n",
       "      <td>2023-11-06</td>\n",
       "      <td>1088.9</td>\n",
       "      <td>9.7</td>\n",
       "      <td>-0.011613</td>\n",
       "      <td>0.080163</td>\n",
       "      <td>662494.2</td>\n",
       "      <td>0.070317</td>\n",
       "      <td>-1.501578</td>\n",
       "      <td>-1.478702</td>\n",
       "      <td>0.007839</td>\n",
       "      <td>Technology</td>\n",
       "      <td>-0.002598</td>\n",
       "      <td>0.001431</td>\n",
       "    </tr>\n",
       "    <tr>\n",
       "      <th>1214410</th>\n",
       "      <td>ZYME</td>\n",
       "      <td>2023-11-06</td>\n",
       "      <td>504.0</td>\n",
       "      <td>1.1</td>\n",
       "      <td>-0.020188</td>\n",
       "      <td>-0.215539</td>\n",
       "      <td>435386.8</td>\n",
       "      <td>0.062766</td>\n",
       "      <td>0.466608</td>\n",
       "      <td>0.053474</td>\n",
       "      <td>0.121481</td>\n",
       "      <td>Healthcare</td>\n",
       "      <td>-0.011173</td>\n",
       "      <td>0.001431</td>\n",
       "    </tr>\n",
       "    <tr>\n",
       "      <th>1214411</th>\n",
       "      <td>ZYXI</td>\n",
       "      <td>2023-11-06</td>\n",
       "      <td>310.4</td>\n",
       "      <td>5.3</td>\n",
       "      <td>0.014746</td>\n",
       "      <td>-0.356304</td>\n",
       "      <td>379338.0</td>\n",
       "      <td>0.066363</td>\n",
       "      <td>0.253785</td>\n",
       "      <td>-0.005658</td>\n",
       "      <td>0.072638</td>\n",
       "      <td>Healthcare</td>\n",
       "      <td>0.023761</td>\n",
       "      <td>0.001431</td>\n",
       "    </tr>\n",
       "  </tbody>\n",
       "</table>\n",
       "</div>"
      ],
      "text/plain": [
       "        ticker        date  marketcap   pb       ret       mom    volume  \\\n",
       "1214407   ZNTL  2023-11-06     1262.5  2.4 -0.302013 -0.174662  743655.8   \n",
       "1214408   ZUMZ  2023-11-06      335.0  0.9 -0.023063 -0.245402  201904.4   \n",
       "1214409    ZUO  2023-11-06     1088.9  9.7 -0.011613  0.080163  662494.2   \n",
       "1214410   ZYME  2023-11-06      504.0  1.1 -0.020188 -0.215539  435386.8   \n",
       "1214411   ZYXI  2023-11-06      310.4  5.3  0.014746 -0.356304  379338.0   \n",
       "\n",
       "         volatility       roe  accruals       agr             sector  \\\n",
       "1214407    0.086553 -0.627662 -0.179132  0.025936         Healthcare   \n",
       "1214408    0.053633 -0.021791 -0.020549 -0.004926  Consumer Cyclical   \n",
       "1214409    0.070317 -1.501578 -1.478702  0.007839         Technology   \n",
       "1214410    0.062766  0.466608  0.053474  0.121481         Healthcare   \n",
       "1214411    0.066363  0.253785 -0.005658  0.072638         Healthcare   \n",
       "\n",
       "           target   predict  \n",
       "1214407 -0.292998  0.001431  \n",
       "1214408 -0.014048  0.001431  \n",
       "1214409 -0.002598  0.001431  \n",
       "1214410 -0.011173  0.001431  \n",
       "1214411  0.023761  0.001431  "
      ]
     },
     "execution_count": 7,
     "metadata": {"slideshow": {"slide_type": "slide"}},
     "output_type": "execute_result"
    }
   ],
   "source": [
    "df.tail()"
   ]
  },
  {
   "cell_type": "markdown",
   "metadata": {"slideshow": {"slide_type": "slide"}},
   "source": [
    "## Form portfolios and compute returns"
   ]
  },
  {
   "cell_type": "code",
   "execution_count": 8,
   "metadata": {"slideshow": {"slide_type": "slide"}},
   "outputs": [],
   "source": [
    "df[\"rnk_long\"] = df.groupby(\"date\", group_keys=False).predict.rank(\n",
    "    ascending=False,\n",
    "    method=\"first\"\n",
    ")\n",
    "df[\"rnk_short\"] = df.groupby(\"date\", group_keys=False).predict.rank(\n",
    "    ascending=True,\n",
    "    method=\"first\"\n",
    ")\n",
    "longs = df[df.rnk_long<=44]\n",
    "shorts = df[df.rnk_short<=44]"
   ]
  },
  {
   "cell_type": "code",
   "execution_count": 9,
   "metadata": {"slideshow": {"slide_type": "slide"}},
   "outputs": [
    {
     "name": "stdout",
     "output_type": "stream",
     "text": [
      "mean annualized long return is 47.21%\n",
      "mean annualized short return is -19.79%\n"
     ]
    }
   ],
   "source": [
    "long_ret = longs.groupby(\"date\").ret.mean()\n",
    "short_ret = shorts.groupby(\"date\").ret.mean()\n",
    "print(f\"mean annualized long return is {52*long_ret.mean():.2%}\")\n",
    "print(f\"mean annualized short return is {52*short_ret.mean():.2%}\")"
   ]
  },
  {
   "cell_type": "markdown",
   "metadata": {"slideshow": {"slide_type": "slide"}},
   "source": [
    "## Try sector-neutral strategy"
   ]
  },
  {
   "cell_type": "code",
   "execution_count": 10,
   "metadata": {"slideshow": {"slide_type": "slide"}},
   "outputs": [],
   "source": [
    "df[\"rnk_long\"] = df.groupby([\"date\", \"sector\"], group_keys=False).predict.rank(\n",
    "    ascending=False,\n",
    "    method=\"first\"\n",
    ")\n",
    "df[\"rnk_short\"] = df.groupby([\"date\", \"sector\"], group_keys=False).predict.rank(\n",
    "    ascending=True,\n",
    "    method=\"first\"\n",
    ")\n",
    "longs = df[df.rnk_long<=4]\n",
    "shorts = df[df.rnk_short<=4]"
   ]
  },
  {
   "cell_type": "code",
   "execution_count": 11,
   "metadata": {"slideshow": {"slide_type": "slide"}},
   "outputs": [
    {
     "name": "stdout",
     "output_type": "stream",
     "text": [
      "mean annualized long sector-neutral return is 43.00%\n",
      "mean annualized short sector-neutral return is -8.86%\n"
     ]
    }
   ],
   "source": [
    "long_neutral_ret = longs.groupby(\"date\").ret.mean()\n",
    "short_neutral_ret = shorts.groupby(\"date\").ret.mean()\n",
    "print(f\"mean annualized long sector-neutral return is {52*long_neutral_ret.mean():.2%}\")\n",
    "print(f\"mean annualized short sector-neutral return is {52*short_neutral_ret.mean():.2%}\")"
   ]
  },
  {
   "cell_type": "markdown",
   "metadata": {"slideshow": {"slide_type": "slide"}},
   "source": [
    "## Plot long-minus-short returns"
   ]
  },
  {
   "cell_type": "code",
   "execution_count": 15,
   "metadata": {"slideshow": {"slide_type": "slide"}},
   "outputs": [
    {
     "data": {
      "image/png": "[encoded data removed]",
      "text/plain": [
       "<Figure size 640x480 with 1 Axes>"
      ]
     },
     "metadata": {"slideshow": {"slide_type": "slide"}},
     "output_type": "display_data"
    }
   ],
   "source": [
    "lms = long_ret - short_ret\n",
    "lms_neutral = long_neutral_ret - short_neutral_ret\n",
    "\n",
    "lms.index = pd.to_datetime(lms.index)\n",
    "lms_neutral.index = pd.to_datetime(lms_neutral.index)\n",
    "\n",
    "import matplotlib.pyplot as plt\n",
    "import seaborn as sns\n",
    "sns.set_style(\"whitegrid\")\n",
    "\n",
    "(1+lms).cumprod().plot(logy=True, label=\"long minus short\")\n",
    "(1+lms_neutral).cumprod().plot(logy=True, label=\"neutral long minus short\")\n",
    "plt.legend()\n",
    "plt.show()"
   ]
  }
 ],
 "metadata": {
  "kernelspec": {
   "display_name": "Python 3",
   "language": "python",
   "name": "python3"
  },
  "language_info": {
   "codemirror_mode": {
    "name": "ipython",
    "version": 3
   },
   "file_extension": ".py",
   "mimetype": "text/x-python",
   "name": "python",
   "nbconvert_exporter": "python",
   "pygments_lexer": "ipython3",
   "version": "3.10.8"
  }
 },
 "nbformat": 4,
 "nbformat_minor": 2
}
